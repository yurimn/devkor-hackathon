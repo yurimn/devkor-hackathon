{
 "cells": [
  {
   "cell_type": "code",
   "execution_count": 1,
   "metadata": {},
   "outputs": [],
   "source": [
    "import csv\n",
    "\n",
    "doc1 = \"./drink.csv\"\n",
    "\n",
    "meal_list = []\n",
    "f = open(doc1, 'r', encoding='utf-8-sig')\n",
    "rdr = csv.reader(f)\n",
    "props = ['name', 'explanation', 'location']\n",
    "for line in rdr:\n",
    "    dict1 = {}\n",
    "    for i in range(3):\n",
    "        dict1[props[i]] = line[i]\n",
    "    meal_list.append(dict1)\n",
    "f.close()\n"
   ]
  },
  {
   "cell_type": "code",
   "execution_count": 2,
   "metadata": {},
   "outputs": [
    {
     "data": {
      "text/plain": [
       "[{'name': '늘, 안암',\n",
       "  'explanation': '요리주점',\n",
       "  'location': '서울 성북구 고려대로24가길 13-2 1F'},\n",
       " {'name': '주유소2', 'explanation': '요리주점', 'location': '서울 성북구 고려대로27길 19 2F'},\n",
       " {'name': '히든트랙', 'explanation': '맥주, 호프', 'location': '서울 동대문구 약령시로 6'},\n",
       " {'name': '다락', 'explanation': '요리주점', 'location': '서울 성북구 고려대로 95'},\n",
       " {'name': '호랭이술집',\n",
       "  'explanation': '요리주점',\n",
       "  'location': '서울 성북구 고려대로26길 14 지하1층 B101호'},\n",
       " {'name': '안암주점',\n",
       "  'explanation': '맥주, 호프',\n",
       "  'location': '서울 성북구 고려대로24길 11 지하층'},\n",
       " {'name': 'DaddyJ Hookah Bar',\n",
       "  'explanation': 'BAR',\n",
       "  'location': '서울 성북구 고려대로24길 3-3 지하1층'},\n",
       " {'name': '뜨락', 'explanation': '요리주점', 'location': '서울 성북구 고려대로24가길 11 1층'},\n",
       " {'name': '두꺼비로맨스',\n",
       "  'explanation': '요리주점',\n",
       "  'location': '서울 성북구 고려대로26길 14 대륜빌딩 2층 201호 두꺼비로맨스 고대점'},\n",
       " {'name': '별난주점', 'explanation': '맥주, 호프', 'location': '서울 성북구 고려대로24길 5'},\n",
       " {'name': '호랑이술상 안암',\n",
       "  'explanation': '맥주, 호프',\n",
       "  'location': '서울 성북구 고려대로26길 55 2층'},\n",
       " {'name': '아지트 안암', 'explanation': 'BAR', 'location': '서울 성북구 고려대로24길 48 B1'},\n",
       " {'name': '땡전집', 'explanation': '전통, 민속주점', 'location': '서울 성북구 고려대로24길 24'},\n",
       " {'name': '동스꼬치', 'explanation': '오뎅, 꼬치', 'location': '서울 성북구 안암로 103'},\n",
       " {'name': '팔레트 안암점',\n",
       "  'explanation': '와인',\n",
       "  'location': '서울 성북구 고려대로26길 42-4 1층 팔레트'},\n",
       " {'name': '안암꼬치', 'explanation': '오뎅, 꼬치', 'location': '서울 성북구 안암로 85'},\n",
       " {'name': '한잔의 추억', 'explanation': '요리주점', 'location': '서울 성북구 고려대로26길 30'},\n",
       " {'name': '지금 보고싶다',\n",
       "  'explanation': '요리주점',\n",
       "  'location': '서울 성북구 고려대로26길 42-2 2층'},\n",
       " {'name': '박군포차', 'explanation': '포장마차', 'location': '서울 성북구 고려대로26길 34'},\n",
       " {'name': '88왕대포 고대본점',\n",
       "  'explanation': '포장마차',\n",
       "  'location': '서울 성북구 고려대로26길 49'},\n",
       " {'name': '막걸리 찬가',\n",
       "  'explanation': '술집',\n",
       "  'location': '서울 성북구 고려대로24길 58-5 고려안암빌딩'},\n",
       " {'name': '희야', 'explanation': '이자카야', 'location': '서울 성북구 고려대로26길 32 1F'},\n",
       " {'name': '춘자',\n",
       "  'explanation': '포장마차',\n",
       "  'location': '서울 성북구 고려대로26길 45-4 1층or 지하1층'},\n",
       " {'name': '번트', 'explanation': '와인', 'location': '서울 성북구 고려대로 19 1층 BURNT'},\n",
       " {'name': '골목집', 'explanation': '요리주점', 'location': '서울 성북구 고려대로26길 33'},\n",
       " {'name': '56st', 'explanation': '요리주점', 'location': '서울 성북구 고려대로26길 25 1층'},\n",
       " {'name': 'TUC', 'explanation': 'BAR', 'location': '서울 동대문구 정릉천동로 155'}]"
      ]
     },
     "execution_count": 2,
     "metadata": {},
     "output_type": "execute_result"
    }
   ],
   "source": [
    "meal_list"
   ]
  },
  {
   "cell_type": "code",
   "execution_count": 3,
   "metadata": {},
   "outputs": [],
   "source": [
    "import json\n",
    "with open(\"meal_list.json\", 'w') as json_file:\n",
    "    json.dump(meal_list, json_file, indent =4, ensure_ascii=False)"
   ]
  },
  {
   "cell_type": "code",
   "execution_count": null,
   "metadata": {},
   "outputs": [],
   "source": []
  }
 ],
 "metadata": {
  "interpreter": {
   "hash": "9fec1c5f5ce0e1c141f265c60f7cde389f89a513860896978e1ee0d53884c950"
  },
  "kernelspec": {
   "display_name": "Python 3.8.8 ('base')",
   "language": "python",
   "name": "python3"
  },
  "language_info": {
   "codemirror_mode": {
    "name": "ipython",
    "version": 3
   },
   "file_extension": ".py",
   "mimetype": "text/x-python",
   "name": "python",
   "nbconvert_exporter": "python",
   "pygments_lexer": "ipython3",
   "version": "3.8.8"
  },
  "orig_nbformat": 4
 },
 "nbformat": 4,
 "nbformat_minor": 2
}
