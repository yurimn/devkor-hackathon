{
 "cells": [
  {
   "cell_type": "code",
   "execution_count": 1,
   "metadata": {},
   "outputs": [],
   "source": [
    "import csv\n",
    "\n",
    "doc1 = \"./meal.csv\"\n",
    "\n",
    "meal_list = []\n",
    "f = open(doc1, 'r', encoding='utf-8-sig')\n",
    "rdr = csv.reader(f)\n",
    "props = ['name', 'explanation', 'location']\n",
    "for line in rdr:\n",
    "    dict1 = {}\n",
    "    for i in range(3):\n",
    "        dict1[props[i]] = line[i]\n",
    "    meal_list.append(dict1)\n",
    "f.close()\n"
   ]
  },
  {
   "cell_type": "code",
   "execution_count": 2,
   "metadata": {},
   "outputs": [
    {
     "data": {
      "text/plain": [
       "[{'name': '밀플랜비 고려대점', 'explanation': '부리또', 'location': '서울 성북구 개운사길 52 1층'},\n",
       " {'name': '야마토텐동',\n",
       "  'explanation': '일식당',\n",
       "  'location': '서울 성북구 고려대로28길 2 1층 야마토텐동'},\n",
       " {'name': '베나레스 본점',\n",
       "  'explanation': '인도 음식',\n",
       "  'location': '서울 성북구 고려대로24길 27 2층 베나레스'},\n",
       " {'name': '이공김밥 안암본점', 'explanation': '종합분식', 'location': '서울 성북구 안암로 61-6'},\n",
       " {'name': '고른햇살', 'explanation': '종합분식', 'location': '서울 성북구 개운사길 14'},\n",
       " {'name': '오샬',\n",
       "  'explanation': '인도 음식',\n",
       "  'location': '서울 성북구 고려대로24길 6 문원빌딩 3층'},\n",
       " {'name': '한상차림밥상', 'explanation': '한식', 'location': '서울 성북구 고려대로8길 35 1층'},\n",
       " {'name': '디어브레드 고대점', 'explanation': '베이커리', 'location': '서울 성북구 개운사1길 29'},\n",
       " {'name': '유자유김치떡볶이본점',\n",
       "  'explanation': '떡볶이',\n",
       "  'location': '서울 성북구 고려대로24길 48 2층'},\n",
       " {'name': '무르무르드구스토', 'explanation': '양식', 'location': '서울 성북구 고려대로 102-2 4층'},\n",
       " {'name': '두부촌', 'explanation': '두부요리', 'location': '서울 성북구 안암로 43'},\n",
       " {'name': '백소정 본점', 'explanation': '일식당', 'location': '서울 성북구 개운사길 30 2층'},\n",
       " {'name': '한술식당 고대점', 'explanation': '덮밥', 'location': '서울 성북구 고려대로24길 15 2층'},\n",
       " {'name': '제주고깃집', 'explanation': '육류,고기요리', 'location': '서울 성북구 안암로 69-1'},\n",
       " {'name': '삼성통닭본점', 'explanation': '치킨', 'location': '서울 성북구 고려대로24길 60'},\n",
       " {'name': '퍽앤어니언',\n",
       "  'explanation': '햄버거',\n",
       "  'location': '서울 성북구 고려대로28길 17-3 101호 퍽앤어니언'},\n",
       " {'name': '매스플레이트안암본점',\n",
       "  'explanation': '이탈리아음식',\n",
       "  'location': '서울 성북구 개운사길 18 2층'},\n",
       " {'name': '트라타 고대본점',\n",
       "  'explanation': '멕시코, 남미음식',\n",
       "  'location': '서울 성북구 고려대로28길 14'},\n",
       " {'name': '모심', 'explanation': '한정식', 'location': '서울 성북구 개운사길 8 타이거빌딩 3층'},\n",
       " {'name': '삼통치킨 본점', 'explanation': '치킨', 'location': '서울 성북구 고려대로 92'},\n",
       " {'name': 'mychef', 'explanation': '파스타', 'location': '서울 성북구 고려대로24가길 14-1'},\n",
       " {'name': '토로생선구이',\n",
       "  'explanation': '한식',\n",
       "  'location': '서울 성북구 고려대로28길 14-1 토로생선구이'},\n",
       " {'name': '서울쌈냉면', 'explanation': '냉면', 'location': '서울 성북구 개운사길 21-4'},\n",
       " {'name': 'BIYA부대찌개본점',\n",
       "  'explanation': '찌개, 전골',\n",
       "  'location': '서울 성북구 개운사길 42-4'},\n",
       " {'name': '쿠이도라쿠', 'explanation': '일본식라면', 'location': '서울 성북구 안암로 103 1층'},\n",
       " {'name': '강다짐 삼각김밥 고대점',\n",
       "  'explanation': '분식',\n",
       "  'location': '서울 성북구 고려대로24길 23'},\n",
       " {'name': '삼청당 고대안암점',\n",
       "  'explanation': '김밥',\n",
       "  'location': '서울 성북구 고려대로28길 31 1층'},\n",
       " {'name': '팔백집', 'explanation': '돼지고기구이', 'location': '서울 성북구 고려대로27길 3'},\n",
       " {'name': '더씨', 'explanation': '중식당', 'location': '서울 성북구 개운사길 8 2층'},\n",
       " {'name': '샐러디 고대안암점',\n",
       "  'explanation': '다이어트,샐러드',\n",
       "  'location': '서울 성북구 고려대로28길 12 1층'},\n",
       " {'name': '동우설렁탕 본점', 'explanation': '곰탕,설렁탕', 'location': '서울 성북구 개운사길 45'},\n",
       " {'name': '미스터국밥', 'explanation': '국밥', 'location': '서울 성북구 고려대로 102'},\n",
       " {'name': '횟감', 'explanation': '생선회', 'location': '서울 성북구 보문로30길 30 1층'},\n",
       " {'name': '치폴레옹 고려대점',\n",
       "  'explanation': '스테이크,립',\n",
       "  'location': '서울 성북구 고려대로24길 45 2층'},\n",
       " {'name': '고품콩', 'explanation': '육류,고기요리', 'location': '서울 성북구 안암로 87-5'},\n",
       " {'name': '히포크라테스 스프', 'explanation': '양식', 'location': '서울 성북구 고려대로28길 12-3'},\n",
       " {'name': '등촌샤브칼국수 안암점',\n",
       "  'explanation': '칼국수,만두',\n",
       "  'location': '서울 성북구 개운사길 11 2층'},\n",
       " {'name': '어흥식당', 'explanation': '스테이크,립', 'location': '서울 성북구 고려대로27길 40'},\n",
       " {'name': '영철스토리펌', 'explanation': '햄버거', 'location': '서울 성북구 안암로9가길 100 1층'},\n",
       " {'name': '니뽕내뽕 고려대점', 'explanation': '중식당', 'location': '서울 성북구 고려대로24길 23'},\n",
       " {'name': '탄', 'explanation': '돈가스', 'location': '서울 성북구 고려대로27길 25'},\n",
       " {'name': '끄트머리집 안암점',\n",
       "  'explanation': '한식',\n",
       "  'location': '서울 성북구 고려대로24길 20 1층'},\n",
       " {'name': '나그네파전', 'explanation': '전,빈대떡', 'location': '서울 성북구 고려대로28길 7'},\n",
       " {'name': '맛닭꼬 안암고대점',\n",
       "  'explanation': '치킨,닭강정',\n",
       "  'location': '서울 성북구 고려대로24길 27'},\n",
       " {'name': '치즈를사랑한찜닭 고려대점',\n",
       "  'explanation': '찜닭',\n",
       "  'location': '서울 성북구 개운사길 21-3'}]"
      ]
     },
     "execution_count": 2,
     "metadata": {},
     "output_type": "execute_result"
    }
   ],
   "source": [
    "meal_list"
   ]
  },
  {
   "cell_type": "code",
   "execution_count": 3,
   "metadata": {},
   "outputs": [],
   "source": [
    "import json\n",
    "with open(\"meal_list.json\", 'w') as json_file:\n",
    "    json.dump(meal_list, json_file, indent =4, ensure_ascii=False)"
   ]
  },
  {
   "cell_type": "code",
   "execution_count": null,
   "metadata": {},
   "outputs": [],
   "source": []
  }
 ],
 "metadata": {
  "interpreter": {
   "hash": "9fec1c5f5ce0e1c141f265c60f7cde389f89a513860896978e1ee0d53884c950"
  },
  "kernelspec": {
   "display_name": "Python 3.8.8 ('base')",
   "language": "python",
   "name": "python3"
  },
  "language_info": {
   "codemirror_mode": {
    "name": "ipython",
    "version": 3
   },
   "file_extension": ".py",
   "mimetype": "text/x-python",
   "name": "python",
   "nbconvert_exporter": "python",
   "pygments_lexer": "ipython3",
   "version": "3.8.8"
  },
  "orig_nbformat": 4
 },
 "nbformat": 4,
 "nbformat_minor": 2
}
